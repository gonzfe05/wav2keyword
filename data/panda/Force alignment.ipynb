{
 "cells": [
  {
   "cell_type": "code",
   "execution_count": null,
   "metadata": {},
   "outputs": [
    {
     "name": "stdout",
     "output_type": "stream",
     "text": [
      "Collecting pydub\n",
      "  Downloading pydub-0.25.1-py2.py3-none-any.whl (32 kB)\n",
      "Installing collected packages: pydub\n",
      "Successfully installed pydub-0.25.1\n"
     ]
    }
   ],
   "source": [
    "#| eval: false\n",
    "\n",
    "# !pip install praatio --upgrade\n",
    "!pip install pydub"
   ]
  },
  {
   "cell_type": "code",
   "execution_count": null,
   "metadata": {},
   "outputs": [],
   "source": [
    "#| eval: false\n",
    "\n",
    "from praatio import textgrid\n",
    "\n",
    "# Textgrids take no arguments--it gets all of its necessary attributes from the tiers that it contains.\n",
    "tg = textgrid.Textgrid()\n",
    "\n",
    "# IntervalTiers and PointTiers take four arguments: the tier name, a list of intervals or points,\n",
    "# a starting time, and an ending time.\n",
    "wordTier = textgrid.IntervalTier('words', [(0,1,'a')], 0, 1.0)\n"
   ]
  },
  {
   "cell_type": "code",
   "execution_count": null,
   "metadata": {},
   "outputs": [
    {
     "name": "stderr",
     "output_type": "stream",
     "text": [
      "100%|██████████| 3412/3412 [00:01<00:00, 2977.04it/s]"
     ]
    },
    {
     "name": "stdout",
     "output_type": "stream",
     "text": [
      "done\n"
     ]
    },
    {
     "name": "stderr",
     "output_type": "stream",
     "text": [
      "\n"
     ]
    }
   ],
   "source": [
    "#| eval: false\n",
    "\n",
    "import os\n",
    "from os.path import join\n",
    "from pathlib import Path\n",
    "import re\n",
    "\n",
    "from praatio import textgrid\n",
    "from praatio import audio\n",
    "\n",
    "from tqdm import tqdm\n",
    "\n",
    "\n",
    "inputPath = {'audios': f'{Path.home()}/.cache/panda/audios/', 'transcripts': f'{Path.home()}/.cache/panda/transcripts/'}\n",
    "outputPath = f'{Path.home()}/.cache/panda/textgrids/'\n",
    "\n",
    "if not os.path.exists(outputPath):\n",
    "    os.mkdir(outputPath)\n",
    "\n",
    "v_ix = 0\n",
    "for fn in tqdm(os.listdir(inputPath['audios'])):\n",
    "    v_ix += 1\n",
    "    name, ext = os.path.splitext(fn)\n",
    "    if ext != \".wav\":\n",
    "        continue\n",
    "    duration = audio.getDuration(join(inputPath['audios'], fn))\n",
    "    with open(join(inputPath['transcripts'], f\"{name}.txt\"), 'r') as f:\n",
    "        text = f.read()\n",
    "        utterances = text.split('\\n')\n",
    "        try:\n",
    "            voices = [re.search('\\[(.+?)\\]', u.replace('[unsure:]', '---')).group(1).replace(':', '') for u in utterances if u]\n",
    "            voices = [f\"{v}_{v_ix}\" for v in voices]\n",
    "        except:\n",
    "            print(utterances)\n",
    "            for u in utterances:\n",
    "                print(u)\n",
    "                print(re.search('\\[(.+?)\\]', u.replace('[unsure:]', '---')))\n",
    "            break\n",
    "        utterances = [re.sub('\\[.+?\\]|-|\\.', '', u).strip() for u in utterances]\n",
    "        ix = 0\n",
    "        tiers = {}\n",
    "        for k, utt in zip(voices, utterances):\n",
    "            end = ix+0.3\n",
    "            tiers[k] = tiers.get(k, []) + [(ix, end, utt)]\n",
    "            ix = end + 0.1\n",
    "    tg = textgrid.Textgrid()\n",
    "    for k, utt in tiers.items():\n",
    "        intervals = []\n",
    "        for start, end, word in utt:\n",
    "            intervals.append((start, end, word))\n",
    "        # print((k, intervals, 0, duration))\n",
    "        # print(f'------------- {name}: {duration}')\n",
    "        tg.addTier(textgrid.IntervalTier(k, intervals, 0, duration))\n",
    "    try:\n",
    "        tg.save(join(outputPath, name + \".TextGrid\"), format=\"short_textgrid\", includeBlankSpaces=False)\n",
    "    except:\n",
    "        print(outputPath, name)\n",
    "        print(text.split('\\n'))\n",
    "        print(f\"utt: {utt}\")\n",
    "        print(f\"voices: {voices}\")\n",
    "        print(f\"utterances: {utterances}\")\n",
    "        break\n",
    "\n",
    "# Did it work?\n",
    "for fn in os.listdir(outputPath):\n",
    "    ext = os.path.splitext(fn)[1]\n",
    "    if ext != \".TextGrid\":\n",
    "        continue\n",
    "    # print(fn)\n",
    "print('done')"
   ]
  },
  {
   "cell_type": "code",
   "execution_count": null,
   "metadata": {},
   "outputs": [
    {
     "name": "stderr",
     "output_type": "stream",
     "text": [
      "100%|██████████| 3412/3412 [00:00<00:00, 9347.73it/s]\n"
     ]
    }
   ],
   "source": [
    "#| eval: false\n",
    "\n",
    "inputPath = {'audios': f'{Path.home()}/.cache/panda/audios/', 'transcripts': f'{Path.home()}/.cache/panda/transcripts/'}\n",
    "outputPath = f'{Path.home()}/.cache/panda/txts/'\n",
    "\n",
    "if not os.path.exists(outputPath):\n",
    "    os.mkdir(outputPath)\n",
    "\n",
    "v_ix = 0\n",
    "for fn in tqdm(os.listdir(inputPath['audios'])):\n",
    "    v_ix += 1\n",
    "    name, ext = os.path.splitext(fn)\n",
    "    if ext != \".wav\":\n",
    "        continue\n",
    "    with open(join(inputPath['transcripts'], f\"{name}.txt\"), 'r') as f:\n",
    "        text = f.read()\n",
    "        utterances = text.split('\\n')\n",
    "        utterances = [re.sub('\\[.+?\\]|-|\\.', '', u).strip() for u in utterances]\n",
    "    utterance = ' '.join(utterances)\n",
    "    with open(join(outputPath, name + \".txt\"), 'w') as f:\n",
    "        f.write(utterance)\n",
    "\n",
    "\n"
   ]
  },
  {
   "cell_type": "code",
   "execution_count": null,
   "metadata": {},
   "outputs": [],
   "source": [
    "#| eval: false\n",
    "\n",
    "from glob import glob\n",
    "from pydub import AudioSegment\n",
    "\n",
    "audio_output = f'{Path.home()}/.cache/panda/audio_slices'\n",
    "trans_output = f'{Path.home()}/.cache/panda/trans_slices'\n",
    "grids = glob('output/*.TextGrid')\n",
    "for grid in grids:\n",
    "    name = Path(grid).stem\n",
    "    tg = textgrid.openTextgrid(f\"output/{name}.TextGrid\", includeEmptyIntervals=False)\n",
    "    audio = AudioSegment.from_wav(f\"{Path.home()}/.cache/panda/audios/{name}.wav\")\n",
    "    for ix, (k, v) in enumerate(tg.tierDict.items()):\n",
    "        if 'phones' in k:\n",
    "            continue\n",
    "        # print(f\"{k}-------------\")\n",
    "        for s, e, t in v.entryList:\n",
    "            start = max(s-0.1, 0)*1000\n",
    "            end = min(e+0.1, audio.duration_seconds)*1000\n",
    "            # print(f\"{t} => {s}:{e} => {e-s}\")\n",
    "            audio_slice = audio[start:end]\n",
    "            audio_slice.export(f'{audio_output}/{t}_{ix}_{name}.wav', format=\"wav\")\n",
    "            with open(f'{trans_output}/{t}_{ix}_{name}.txt', 'w') as f:\n",
    "                f.write(t)\n"
   ]
  }
 ],
 "metadata": {
  "kernelspec": {
   "display_name": "Python 3.10.5 ('base')",
   "language": "python",
   "name": "python3"
  }
 },
 "nbformat": 4,
 "nbformat_minor": 2
}
