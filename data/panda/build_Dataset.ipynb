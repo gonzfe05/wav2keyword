{
 "cells": [
  {
   "cell_type": "markdown",
   "metadata": {},
   "source": [
    "### Import audio and transcriptions data"
   ]
  },
  {
   "cell_type": "code",
   "execution_count": null,
   "metadata": {},
   "outputs": [
    {
     "name": "stderr",
     "output_type": "stream",
     "text": [
      "100%|██████████| 29887/29887 [05:31<00:00, 90.25it/s]"
     ]
    },
    {
     "name": "stdout",
     "output_type": "stream",
     "text": [
      "Trackers: 29887\n"
     ]
    },
    {
     "name": "stderr",
     "output_type": "stream",
     "text": [
      "\n"
     ]
    }
   ],
   "source": [
    "#| eval: false\n",
    "\n",
    "from glob import glob\n",
    "from pathlib import Path\n",
    "from tqdm import tqdm\n",
    "\n",
    "# audios = glob('selected/*.wav')\n",
    "# transcripts = glob('Panda_Express_Transcripts/*/*/*.txt')\n",
    "audios = glob(f'{Path.home()}/.cache/panda/audio_slices/*.wav')\n",
    "transcripts = glob(f'{Path.home()}/.cache/panda/trans_slices/*.txt')\n",
    "audios_data = {}\n",
    "for a in tqdm(audios):\n",
    "    filename = a.split('/')[-1]\n",
    "    id = filename.replace('.wav', '')\n",
    "    trans_file = [t for t in transcripts if id == t.split('/')[-1].replace('.txt', '')]\n",
    "    if len(trans_file) > 1:\n",
    "        for file in trans_file:\n",
    "            with open(file, 'r') as f:\n",
    "                print(f\"{file} ---- {id}\")\n",
    "                print(f.read())\n",
    "        print('-------------------------------')\n",
    "    if len(trans_file) == 0:\n",
    "        print(id)\n",
    "        continue\n",
    "    with open(trans_file[0], 'r') as f:\n",
    "        text = f.read()\n",
    "    audios_data[id] = {'audio_file': a, 'trans_file': trans_file[0], 'transcript': text}\n",
    "print(f\"Trackers: {len(audios_data.keys())}\")"
   ]
  },
  {
   "cell_type": "markdown",
   "metadata": {},
   "source": [
    "### Import items tag data"
   ]
  },
  {
   "cell_type": "code",
   "execution_count": null,
   "metadata": {},
   "outputs": [
    {
     "name": "stdout",
     "output_type": "stream",
     "text": [
      "items: 474\n"
     ]
    }
   ],
   "source": [
    "#| eval: false\n",
    "\n",
    "import json\n",
    "\n",
    "with open('pd-112705/12-tag.json', 'r') as f:\n",
    "    config = json.load(f)\n",
    "tags = [{'tag_class': t['tag_class'], 'tags': t['tags'], 'files': []} for t in config]\n",
    "print(f\"items: {len(tags)}\")\n"
   ]
  },
  {
   "cell_type": "markdown",
   "metadata": {},
   "source": [
    "### Group transcriptions and audio by items"
   ]
  },
  {
   "cell_type": "code",
   "execution_count": null,
   "metadata": {},
   "outputs": [
    {
     "data": {
      "text/plain": [
       "[('the original orange chicken', 2005),\n",
       " ('kung pao chicken', 1585),\n",
       " ('chow mein', 1504),\n",
       " ('grilled teriyaki chicken', 1487),\n",
       " ('mushroom chicken', 1385)]"
      ]
     },
     "execution_count": null,
     "metadata": {},
     "output_type": "execute_result"
    }
   ],
   "source": [
    "#| eval: false\n",
    "\n",
    "from collections import defaultdict\n",
    "import re\n",
    "from random import uniform, seed\n",
    "\n",
    "seed(1991)\n",
    "\n",
    "for tag in tags:\n",
    "    for k, v in audios_data.items():\n",
    "        for t in tag['tags']:\n",
    "            if t in v['transcript']:\n",
    "                tag['files'].append(k)\n",
    "\n",
    "data = {}\n",
    "for tag in tags:\n",
    "    t = tag['tag_class'].lower()\n",
    "    t = re.sub(r'\\bdefault\\b|\\btag class\\b|\\basr\\b|\\bfollowup\\b|\\broot\\b|\\bunavailable\\b|\\bcorrection\\b|\\bfollow-up\\b', '', t).strip()\n",
    "    if data.get(t):\n",
    "        data[t]['tags'].extend(tag['tags'])\n",
    "        data[t]['files'].extend(tag['files'])\n",
    "    else:\n",
    "        data[t] = {}\n",
    "        data[t]['tags'] = tag['tags']\n",
    "        data[t]['files'] = tag['files']\n",
    "\n",
    "for k, v in data.items():\n",
    "    v['tags'] = list(set(v['tags']))\n",
    "    v['files'] = list(set(v['files']))\n",
    "    v['split'] = [uniform(0, 1) for _ in range(len(v['files']))]\n",
    "    v['split'] = ['train' if r < 0.8 else r for r in v['split']]\n",
    "    v['split'] = ['val' if (isinstance(r, float)) and (r < 0.9) else r for r in v['split']]\n",
    "    v['split'] = ['test' if isinstance(r, float) else r for r in v['split']]\n",
    "\n",
    "sorted([(k, len(v['files'])) for k, v in data.items()], key=lambda x: x[1], reverse=True)[:5]\n",
    "\n"
   ]
  },
  {
   "cell_type": "code",
   "execution_count": null,
   "metadata": {},
   "outputs": [],
   "source": [
    "#| eval: false\n",
    "\n",
    "with open('tags_data.json', 'w') as f:\n",
    "    json.dump(data, f)"
   ]
  },
  {
   "cell_type": "code",
   "execution_count": null,
   "metadata": {},
   "outputs": [
    {
     "data": {
      "text/plain": [
       "['chow mein']"
      ]
     },
     "execution_count": null,
     "metadata": {},
     "output_type": "execute_result"
    }
   ],
   "source": [
    "#| eval: false\n",
    "\n",
    "tags_pool = [k for k, v in data.items() if 'chow mein' in v['tags']]\n",
    "tags_pool"
   ]
  },
  {
   "cell_type": "markdown",
   "metadata": {},
   "source": [
    "### Add label"
   ]
  },
  {
   "cell_type": "markdown",
   "metadata": {},
   "source": [
    "### Make a dataset for each item"
   ]
  },
  {
   "cell_type": "code",
   "execution_count": null,
   "metadata": {},
   "outputs": [],
   "source": [
    "#| eval: false\n",
    "\n",
    "from pathlib import Path\n",
    "import shutil\n",
    "import pandas as pd\n",
    "\n",
    "records = []\n",
    "for k, v in data.items():\n",
    "    current_records = []\n",
    "    for f, s in zip(v['files'], v['split']):\n",
    "        # curr_path = f\"{Path.home()}/.cache/panda/audio_slices/{f}.wav\"\n",
    "        new_path = f\"{Path.home()}/.cache/panda/audio_slices/{f}.wav\"\n",
    "        # shutil.copyfile(curr_path, new_path)\n",
    "        current_records.append((k, new_path, s))\n",
    "    records.extend(current_records)\n",
    "\n",
    "df = pd.DataFrame.from_records(records, columns=['label', 'path', 'split'])\n",
    "Path(f\"dataset\").mkdir(parents=True, exist_ok=True)\n",
    "train = df.query(f\"split == 'train'\")\n",
    "val = df.query(f\"split == 'val'\")\n",
    "test = df.query(f\"split == 'test'\")\n",
    "train.to_csv('dataset/slices_train.csv')\n",
    "val.to_csv('dataset/slices_val.csv')\n",
    "test.to_csv('dataset/slices_test.csv')"
   ]
  },
  {
   "cell_type": "code",
   "execution_count": null,
   "metadata": {},
   "outputs": [
    {
     "data": {
      "text/html": [
       "<div>\n",
       "<style scoped>\n",
       "    .dataframe tbody tr th:only-of-type {\n",
       "        vertical-align: middle;\n",
       "    }\n",
       "\n",
       "    .dataframe tbody tr th {\n",
       "        vertical-align: top;\n",
       "    }\n",
       "\n",
       "    .dataframe thead th {\n",
       "        text-align: right;\n",
       "    }\n",
       "</style>\n",
       "<table border=\"1\" class=\"dataframe\">\n",
       "  <thead>\n",
       "    <tr style=\"text-align: right;\">\n",
       "      <th></th>\n",
       "      <th>label</th>\n",
       "      <th>path</th>\n",
       "      <th>split</th>\n",
       "    </tr>\n",
       "  </thead>\n",
       "  <tbody>\n",
       "    <tr>\n",
       "      <th>0</th>\n",
       "      <td>aquafina</td>\n",
       "      <td>/home/jovyan/.cache/panda/audio_slices/water_0...</td>\n",
       "      <td>train</td>\n",
       "    </tr>\n",
       "    <tr>\n",
       "      <th>1</th>\n",
       "      <td>aquafina</td>\n",
       "      <td>/home/jovyan/.cache/panda/audio_slices/vitamin...</td>\n",
       "      <td>train</td>\n",
       "    </tr>\n",
       "    <tr>\n",
       "      <th>2</th>\n",
       "      <td>aquafina</td>\n",
       "      <td>/home/jovyan/.cache/panda/audio_slices/water_0...</td>\n",
       "      <td>val</td>\n",
       "    </tr>\n",
       "    <tr>\n",
       "      <th>3</th>\n",
       "      <td>aquafina</td>\n",
       "      <td>/home/jovyan/.cache/panda/audio_slices/waters_...</td>\n",
       "      <td>train</td>\n",
       "    </tr>\n",
       "    <tr>\n",
       "      <th>4</th>\n",
       "      <td>aquafina</td>\n",
       "      <td>/home/jovyan/.cache/panda/audio_slices/water_0...</td>\n",
       "      <td>test</td>\n",
       "    </tr>\n",
       "  </tbody>\n",
       "</table>\n",
       "</div>"
      ],
      "text/plain": [
       "      label                                               path  split\n",
       "0  aquafina  /home/jovyan/.cache/panda/audio_slices/water_0...  train\n",
       "1  aquafina  /home/jovyan/.cache/panda/audio_slices/vitamin...  train\n",
       "2  aquafina  /home/jovyan/.cache/panda/audio_slices/water_0...    val\n",
       "3  aquafina  /home/jovyan/.cache/panda/audio_slices/waters_...  train\n",
       "4  aquafina  /home/jovyan/.cache/panda/audio_slices/water_0...   test"
      ]
     },
     "execution_count": null,
     "metadata": {},
     "output_type": "execute_result"
    }
   ],
   "source": [
    "#| eval: false\n",
    "\n",
    "df.head()"
   ]
  }
 ],
 "metadata": {
  "kernelspec": {
   "display_name": "Python 3.10.5 ('base')",
   "language": "python",
   "name": "python3"
  }
 },
 "nbformat": 4,
 "nbformat_minor": 2
}
